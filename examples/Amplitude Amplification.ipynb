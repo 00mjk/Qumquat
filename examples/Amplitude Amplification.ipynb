{
 "cells": [
  {
   "cell_type": "code",
   "execution_count": 2,
   "metadata": {},
   "outputs": [],
   "source": [
    "import qumquat as qq"
   ]
  },
  {
   "cell_type": "markdown",
   "metadata": {},
   "source": [
    "This notebook utilizes __perp__ and to a lesser extent __garbage collection__.\n",
    "\n",
    "\n",
    "# Amplitude Amplification\n",
    "\n",
    "$\\newcommand{\\ket}[1]{|#1\\rangle}$ $\\newcommand{\\bra}[1]{\\langle#1|}$\n",
    "Amplitude amplification is a general technique for converting a quantum state $\\ket{\\text{start}}$ to a quantum state $\\ket{\\text{goal}}$. It works by applying the diffusion operator $G$, which is the product of two reflections about the initial and final state:\n",
    "\n",
    "$$G = (-1) \\cdot (I - 2\\ket{\\text{start}}\\bra{\\text{start}}) \\cdot (I - 2\\ket{\\text{goal}}\\bra{\\text{goal}})$$\n",
    "\n",
    "Consider the two-dimensional real subspace spanned by $\\ket{\\text{start}}$ and $\\ket{\\text{goal}}$. Two reflections in this space multiplied together give a rotation. In particular, say we have $a,b \\in \\mathbb{R}$ and $a^2+b^2 = 1$ such that:\n",
    "\n",
    "$$\\ket{\\text{start}} = a\\ket{\\text{goal}} + b \\ket{\\text{bad}}$$\n",
    "\n",
    "where $\\langle\\text{goal}|\\text{bad}\\rangle = 0$ and $a = |\\langle\\text{start}|\\text{goal}\\rangle|$. The states can always be redefined up to global phase to make $a,b$ real. Then, in the $\\{\\ket{\\text{goal}},\\ket{\\text{bad}}\\}$ basis we can write:\n",
    "\n",
    "$$G = (-1) \\cdot \\left(I - 2\\begin{bmatrix}a^2 & ab \\\\ ab & b^2\\end{bmatrix}\\right)\\begin{bmatrix}-1 & 0 \\\\ 0 & 1\\end{bmatrix} $$$$= \\begin{bmatrix}1-2a^2 & -2ab \\\\ 2ab & 2b^2-1\\end{bmatrix}=\\begin{bmatrix}\\cos(2\\theta) & \\sin(2\\theta) \\\\ -\\sin(2\\theta) & \\cos(2\\theta)\\end{bmatrix}$$\n",
    "\n",
    "where in the last step we let $a = \\sin(\\theta)$. (That's what the -1 was for: otherwise we have $a = \\cos(\\theta)$, but we want $\\theta$ to be small when $a$ is small.) After $m$ applications of $G$ the starting state becomes:\n",
    "\n",
    "$$G^m \\ket{\\text{start}} = \\sin([2m+1]\\theta)\\ket{\\text{goal}} + \\cos([2m+1]\\theta)\\ket{\\text{bad}}$$\n",
    "\n",
    "$m$ is chosen to make $[2m+1]\\theta$ as close as possible to $\\pi/2$. When $a = |\\langle\\text{start}|\\text{goal}\\rangle|$ is small, this requires $m \\in O(1/a)$ rotati\n",
    "ons.\n",
    "\n",
    "## Example: Grover's Search\n",
    "\n",
    "## When $a = |\\langle\\text{start}|\\text{goal}\\rangle|$ is unknown\n",
    "\n",
    "## Example: Quantum Rejection Sampling\n",
    "\n",
    "\n",
    "# Exercises\n",
    "\n",
    "Searching for Cliques\n",
    "\n",
    "Connectedness\n",
    "\n",
    "Joshua Cook's thing?"
   ]
  },
  {
   "cell_type": "code",
   "execution_count": null,
   "metadata": {},
   "outputs": [],
   "source": []
  }
 ],
 "metadata": {
  "kernelspec": {
   "display_name": "Python 3",
   "language": "python",
   "name": "python3"
  },
  "language_info": {
   "codemirror_mode": {
    "name": "ipython",
    "version": 3
   },
   "file_extension": ".py",
   "mimetype": "text/x-python",
   "name": "python",
   "nbconvert_exporter": "python",
   "pygments_lexer": "ipython3",
   "version": "3.7.2"
  }
 },
 "nbformat": 4,
 "nbformat_minor": 2
}
