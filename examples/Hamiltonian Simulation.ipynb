{
 "cells": [
  {
   "cell_type": "code",
   "execution_count": 1,
   "metadata": {},
   "outputs": [],
   "source": [
    "import qumquat as qq"
   ]
  },
  {
   "cell_type": "markdown",
   "metadata": {},
   "source": [
    "# Hamiltonian Simulation\n",
    "\n",
    "## Fermionic Operators\n",
    "\n",
    "Via Bravyi Kitaev and Jordan Wigner transformation.\n",
    "\n",
    "https://arxiv.org/pdf/1208.5986.pdf\n",
    "\n",
    "Types of operators:\n",
    "$$\\text{number}_i = a^\\dagger_i a_i$$\n",
    "$$\\text{exchange}_{i\\leftrightarrow j} = a^\\dagger_i a^\\dagger_j a_j a_i= a^\\dagger_j a_j a^\\dagger_i a_i$$\n",
    "$$\\text{excitation}_{i\\leftrightarrow j} = a^\\dagger_i a_j + a^\\dagger_j a_i $$\n",
    "$$\\text{number-excitation}_{i,j,k} = a^\\dagger_i a^\\dagger_j a_j a_k + a^\\dagger_k a^\\dagger_j a_j a_i = (a^\\dagger_i a_k + a_k^\\dagger a_i) a^\\dagger_j a_j$$\n",
    "$$\\text{double-excitation}_{i,j,k,l} =  a^\\dagger_i a^\\dagger_j a_k a_l + a^\\dagger_l a^\\dagger_k a_j a_i$$\n",
    "\n",
    "Where do these appear?\n",
    "\n",
    " To do: apply $e^{iHt}$ and sparsity oracles."
   ]
  },
  {
   "cell_type": "raw",
   "metadata": {},
   "source": []
  },
  {
   "cell_type": "markdown",
   "metadata": {},
   "source": [
    "## Trotterization\n"
   ]
  },
  {
   "cell_type": "code",
   "execution_count": null,
   "metadata": {},
   "outputs": [],
   "source": []
  },
  {
   "cell_type": "markdown",
   "metadata": {},
   "source": [
    "## Sparse Hamiltonians"
   ]
  },
  {
   "cell_type": "code",
   "execution_count": null,
   "metadata": {},
   "outputs": [],
   "source": []
  },
  {
   "cell_type": "markdown",
   "metadata": {},
   "source": [
    "## Linear Combinations of Unitaries"
   ]
  },
  {
   "cell_type": "code",
   "execution_count": null,
   "metadata": {},
   "outputs": [],
   "source": []
  },
  {
   "cell_type": "markdown",
   "metadata": {},
   "source": [
    "## Qubitization"
   ]
  },
  {
   "cell_type": "code",
   "execution_count": null,
   "metadata": {},
   "outputs": [],
   "source": []
  }
 ],
 "metadata": {
  "kernelspec": {
   "display_name": "Python 3",
   "language": "python",
   "name": "python3"
  },
  "language_info": {
   "codemirror_mode": {
    "name": "ipython",
    "version": 3
   },
   "file_extension": ".py",
   "mimetype": "text/x-python",
   "name": "python",
   "nbconvert_exporter": "python",
   "pygments_lexer": "ipython3",
   "version": "3.7.2"
  }
 },
 "nbformat": 4,
 "nbformat_minor": 2
}
