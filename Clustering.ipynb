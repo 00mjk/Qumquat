{
 "cells": [
  {
   "cell_type": "markdown",
   "metadata": {},
   "source": [
    "### Quantum Clustering Algorithm\n",
    "Seth Lloyd, Masoud Mohseni, Patrick Rebentrost, quant-ph/1307.0411\n",
    "\n",
    "A variant of this algorithm was put out by Svore et al here: quant-ph/1401.2142\n",
    "\n",
    "Ewin Tang dequantized this algorithm: cs/1811.00414. Nevertheless it remains an interesting exercise for Qumquat.\n",
    "\n",
    "Estimates the distance of a vector $\\vec u$ to the centroid of some vectors $\\vec v_i$."
   ]
  },
  {
   "cell_type": "code",
   "execution_count": 1,
   "metadata": {},
   "outputs": [],
   "source": [
    "import qumquat as qq\n",
    "import random, math"
   ]
  },
  {
   "cell_type": "markdown",
   "metadata": {},
   "source": [
    "Generate data. We are given QRAM state preparation and query access to $\\vec u$, $\\vec v_i$, a vector of the norms $|\\vec v_i|$. We also know $|\\vec u|$."
   ]
  },
  {
   "cell_type": "code",
   "execution_count": 2,
   "metadata": {},
   "outputs": [],
   "source": [
    "N = 10 # dimension\n",
    "M = 10 # number of vectors in cluster\n",
    "\n",
    "u = [random.uniform(-5, 5) for i in range(N)]\n",
    "u_norm = math.sqrt(sum([x**2 for x in u]))\n",
    "\n",
    "vs = []\n",
    "for j in range(M):\n",
    "    vs.append([random.uniform(-1,1) for i in range(N)])\n",
    "\n",
    "v_norms = [math.sqrt(sum([x**2 for x in vs[j]])) for j in range(M)]"
   ]
  },
  {
   "cell_type": "markdown",
   "metadata": {},
   "source": [
    "Let's calculate distance classically. This takes time linear in $N,M$."
   ]
  },
  {
   "cell_type": "code",
   "execution_count": 3,
   "metadata": {},
   "outputs": [
    {
     "name": "stdout",
     "output_type": "stream",
     "text": [
      "Classical Distance: 7.409689790954205\n"
     ]
    }
   ],
   "source": [
    "delta = [u[i] for i in range(N)]\n",
    "for j in range(M):\n",
    "    for i in range(N):\n",
    "        delta[i] += vs[j][i]/M\n",
    "\n",
    "D_classical = math.sqrt(sum([x**2 for x in delta]))\n",
    "print(\"Classical Distance:\", D_classical)"
   ]
  },
  {
   "cell_type": "markdown",
   "metadata": {},
   "source": [
    "$\\newcommand{\\ket}[1]{|#1\\rangle}\\newcommand{\\bra}[1]{\\langle#1|}$\n",
    "An important part of the algorithm is the state:\n",
    "$$\\ket{\\phi} = \\frac{1}{\\sqrt{Z}} \\left( |\\vec u| \\ket{0} - \\frac{1}{\\sqrt{M}} \\sum_j |\\vec v_j|\\ket{j}\\right)$$\n",
    "\n",
    "Where $Z = |\\vec u|^2 + \\sum_i |\\vec v_i|^2$ and the $\\vec v_i$ are numbered 1 to $M$.\n",
    "\n",
    "To prepare this state, we first prepare a precursor state:\n",
    "$$\\ket{\\phi_0} = \\frac{1}{\\sqrt{2}} \\left( \\ket{0} - \\frac{1}{\\sqrt{M}} \\sum_j \\ket{j}\\right)$$"
   ]
  },
  {
   "cell_type": "code",
   "execution_count": 4,
   "metadata": {},
   "outputs": [],
   "source": [
    "def make_phi_zero():\n",
    "    tmp = qq.reg([0,1])\n",
    "    with qq.q_if(tmp): phi = qq.reg(range(1,M+1))\n",
    "    tmp.clean(phi > 0)\n",
    "    return phi"
   ]
  },
  {
   "cell_type": "markdown",
   "metadata": {},
   "source": [
    "To prepare $\\ket{\\phi}$ we can use the following Hamiltonian, which acts on $\\ket{\\phi_0}$ and the sign bit of some temporary register `tmp`, i.e. `tmp[-1]`.\n",
    "\n",
    "$$H = \\left( |\\vec u|\\ket{0}\\bra{0} + \\frac{1}{\\sqrt{M}} \\sum_j |\\vec v_j| \\ket{j}\\bra{j} \\right) \\otimes \\sigma_X$$ \n",
    "\n",
    "This hamiltonian is nearly diagonal - we just need to hadamard the last bit to diagonalize it. This makes simulating the hamiltonian for time $t$ possible with a QRAM query to the vector of $|\\vec v_i|$."
   ]
  },
  {
   "cell_type": "code",
   "execution_count": 5,
   "metadata": {},
   "outputs": [],
   "source": [
    "def apply_hamiltonian(t, phi, tmp):\n",
    "    tmp.had(-1) # hadamard the sign bit\n",
    "    with qq.q_if(phi == 0):\n",
    "        qq.phase(t*u_norm * tmp)\n",
    "    with qq.q_if(phi > 0):\n",
    "        qq.phase(t*(phi-1).qram(v_norms) * tmp)\n",
    "    tmp.had(-1) "
   ]
  },
  {
   "cell_type": "markdown",
   "metadata": {},
   "source": [
    "If we apply $H$ for time $t$ to $\\ket{\\phi_0}$ and `tmp[-1]` we obtain:\n",
    "\n",
    "$$\\frac{1}{\\sqrt{2}}  \\left(  \\cos(|\\vec u| t)\\ket{0} - \\frac{1}{\\sqrt{M}} \\sum_j \\cos(|\\vec v_j|t) \\ket{j}  \\right) \\otimes \\ket{0} - \\frac{i}{\\sqrt{2}}  \\left(  \\sin(|\\vec u| t)\\ket{0} - \\frac{1}{\\sqrt{M}} \\sum_j \\sin(|\\vec v_j|t) \\ket{j}  \\right) \\otimes \\ket{1} $$\n",
    "\n",
    "If $t$ is small enough, $|\\vec u|t, |\\vec v_j|t \\ll 1$, then the small angle approximation holds.\n",
    "$$ \\sin(|\\vec u|t) \\approx |\\vec u|t,\\hspace{1cm} \\sin(|\\vec v_j|t) \\approx |\\vec v_j|t$$\n",
    "\n",
    "That way if we postselect on measuring $\\ket{1}$ for `tmp[-1]`, we obtain $\\ket{\\phi_0}$.\n",
    "\n",
    "The probability of success of postselection is $Z^2 t^2$, letting us obtain an extremely crude estimate for $Z$ (the probability can only be estimated to additive error and $1/t^2$ will be huge)."
   ]
  },
  {
   "cell_type": "code",
   "execution_count": 6,
   "metadata": {},
   "outputs": [
    {
     "name": "stdout",
     "output_type": "stream",
     "text": [
      "t = 0.012688188022442624\n",
      "sin(|u|*t) - |u|*t is -0.0001665833531718508 \n",
      "\n"
     ]
    }
   ],
   "source": [
    "t = 1e-1 * min(1/u_norm, min([1/v_norm for v_norm in v_norms]))\n",
    "print(\"t =\", t)\n",
    "print(\"sin(|u|*t) - |u|*t is\", math.sin(u_norm*t) - u_norm*t, \"\\n\")\n",
    "\n",
    "def make_phi():\n",
    "    phi = make_phi_zero()\n",
    "    tmp = qq.reg(1) # must be 1, that way we get +-1\n",
    "    \n",
    "    apply_hamiltonian(t, phi, tmp)\n",
    "    \n",
    "    prob = qq.postselect(tmp[-1] == 1)\n",
    "    print(\"Prepared |phi> with probability\", prob)\n",
    "    \n",
    "    Z_estimate = math.sqrt(prob)/t\n",
    "    return phi, Z_estimate"
   ]
  },
  {
   "cell_type": "markdown",
   "metadata": {},
   "source": [
    "We can also compute $Z$ classically in time linear in $N,M$. quant-ph/1307.0411 mentions quantum counting as a method for estimating $Z$, but I wasn't able to figure that out. quant-ph/1401.2142 may have an answer."
   ]
  },
  {
   "cell_type": "code",
   "execution_count": 7,
   "metadata": {},
   "outputs": [],
   "source": [
    "Z_classical = u_norm**2 + sum([v_norm**2 for v_norm in v_norms])/M"
   ]
  },
  {
   "cell_type": "markdown",
   "metadata": {},
   "source": [
    "Our goal is to estimate the distance:\n",
    "$$D = \\left| \\vec u - \\frac{1}{M} \\sum_j \\vec v_j \\right|$$\n",
    "\n",
    "Using a heavy QRAM query we can prepare the state:\n",
    "$$\\ket{\\psi} = \\frac{1}{\\sqrt{2}} \\left( \\ket{0}\\ket{\\vec u}  + \\frac{1}{\\sqrt{M}} \\sum_j \\ket{j}\\vec{v_j}\\right)$$\n",
    "\n",
    "Indeed, Qumquat does not support querying different QRAMs in superposition. We make use of the `qq.init` function which is called by `qq.reg` to perform the initialization. That way we can conditionally initialize different states $\\ket{u}, \\ket{v_j}$, albeit in time $M$. This highlights that creating $\\ket{\\psi}$ demands either strong sparsity assumptions or a ridiculous piece of QRAM hardware.\n",
    "\n",
    "We store $\\ket{\\psi}$ in two variables: `psi_key` and `psi_value`. "
   ]
  },
  {
   "cell_type": "code",
   "execution_count": 8,
   "metadata": {},
   "outputs": [],
   "source": [
    "def make_psi():\n",
    "\n",
    "    # prepare ( |0> + M^(-1/2) sum_{j=1}^M |j> ) * 2^{-1/2}\n",
    "    tmp = qq.reg([0,1])\n",
    "    with qq.q_if(tmp): psi_key = qq.reg(range(1,M+1))\n",
    "    tmp.clean(psi_key > 0)\n",
    "\n",
    "    psi_value = qq.reg(0)\n",
    "\n",
    "    with qq.q_if(psi_key == 0):\n",
    "        qq.init(psi_value, {i:u[i] for i in range(N)})\n",
    "\n",
    "    for j in range(M):\n",
    "        with qq.q_if(psi_key-1 == j):\n",
    "            qq.init(psi_value, {i:vs[j][i] for i in range(N)})\n",
    "\n",
    "\n",
    "    return psi_key, psi_value"
   ]
  },
  {
   "cell_type": "markdown",
   "metadata": {},
   "source": [
    "The magnitude squared of the inner product of `psi_key` and`phi` is:\n",
    "$$ \\left| \\vec u - \\frac{1}{M} \\sum_j \\vec v_j \\right|^2 (|\\vec u|^2 + \\sum_i |\\vec v_i|^2  ) = 2 D^2 Z $$\n",
    "\n",
    "We can estimate the inner product with the swap test. The probability we estimate is $(2 D^2 Z + 1)/2$."
   ]
  },
  {
   "cell_type": "code",
   "execution_count": 9,
   "metadata": {},
   "outputs": [
    {
     "name": "stdout",
     "output_type": "stream",
     "text": [
      "Prepared |phi> with probability 0.005237016266100272\n"
     ]
    }
   ],
   "source": [
    "psi_key, psi_value = make_psi()\n",
    "\n",
    "phi, Z_estimate = make_phi()\n",
    "\n",
    "out = qq.reg([0,1])\n",
    "with qq.q_if(out):\n",
    "    qq.utils.swap(psi_key, phi)\n",
    "\n",
    "out.had(0)\n",
    "\n",
    "p_success = qq.postselect(out == 0)\n",
    "p_success = 0.2"
   ]
  },
  {
   "cell_type": "markdown",
   "metadata": {},
   "source": [
    "This completes the algorithm. The estimate for $Z$ even with really generous $t$ is very bad."
   ]
  },
  {
   "cell_type": "code",
   "execution_count": 10,
   "metadata": {},
   "outputs": [
    {
     "name": "stdout",
     "output_type": "stream",
     "text": [
      "Z estimate: 5.703511948547743\n",
      "Classically found Z: 65.26743825334496\n",
      "Quantum distance estimate: 2.6161449383123427\n",
      "Quantum distance estimate (classical Z): 8.849911067576553\n",
      "Classically computed distance: 7.409689790954205\n"
     ]
    }
   ],
   "source": [
    "print(\"Z estimate:\", Z_estimate)\n",
    "print(\"Classically found Z:\", Z_classical)\n",
    "\n",
    "D_estimate = math.sqrt(2*Z_estimate*abs(2*p_success - 1))\n",
    "D_classical_Z = math.sqrt(2*Z_classical*abs(2*p_success - 1))\n",
    "\n",
    "print(\"Quantum distance estimate:\", D_estimate)\n",
    "print(\"Quantum distance estimate (classical Z):\", D_classical_Z)\n",
    "print(\"Classically computed distance:\", D_classical)"
   ]
  },
  {
   "cell_type": "code",
   "execution_count": null,
   "metadata": {},
   "outputs": [],
   "source": []
  }
 ],
 "metadata": {
  "kernelspec": {
   "display_name": "Python 3",
   "language": "python",
   "name": "python3"
  },
  "language_info": {
   "codemirror_mode": {
    "name": "ipython",
    "version": 3
   },
   "file_extension": ".py",
   "mimetype": "text/x-python",
   "name": "python",
   "nbconvert_exporter": "python",
   "pygments_lexer": "ipython3",
   "version": "3.6.5"
  }
 },
 "nbformat": 4,
 "nbformat_minor": 2
}
